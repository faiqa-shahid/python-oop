{
 "cells": [
  {
   "cell_type": "markdown",
   "id": "c69ac6f6",
   "metadata": {},
   "source": [
    "# oops "
   ]
  },
  {
   "cell_type": "code",
   "execution_count": 1,
   "id": "ab64f888",
   "metadata": {},
   "outputs": [],
   "source": [
    "class apple :\n",
    " pass\n",
    "\n"
   ]
  },
  {
   "cell_type": "code",
   "execution_count": 2,
   "id": "1c66bb29",
   "metadata": {},
   "outputs": [],
   "source": [
    "class apple:\n",
    "    color=\"\"\n",
    "    flavor=\"\""
   ]
  },
  {
   "cell_type": "code",
   "execution_count": 3,
   "id": "ad9fef61",
   "metadata": {},
   "outputs": [],
   "source": [
    "class apple:\n",
    "    color=\"\"\n",
    "    flavor=\"\"\n",
    "jonagold=apple()    "
   ]
  },
  {
   "cell_type": "code",
   "execution_count": 4,
   "id": "c4dc3ab5",
   "metadata": {},
   "outputs": [],
   "source": [
    "class apple:\n",
    "    color=\"\"\n",
    "    flavor=\"\"\n",
    "jonagold=apple()    \n",
    "jonagold.color=\"red\"\n",
    "jonagold.flavour=\"sweet\""
   ]
  },
  {
   "cell_type": "code",
   "execution_count": 5,
   "id": "a55236a7",
   "metadata": {},
   "outputs": [
    {
     "name": "stdout",
     "output_type": "stream",
     "text": [
      "red\n",
      "sweet\n"
     ]
    }
   ],
   "source": [
    "jonagold.color=\"red\"\n",
    "jonagold.flavor=\"sweet\"\n",
    "print(jonagold.color)\n",
    "print(jonagold.flavor)"
   ]
  },
  {
   "cell_type": "code",
   "execution_count": 6,
   "id": "f5d4598e",
   "metadata": {},
   "outputs": [
    {
     "name": "stdout",
     "output_type": "stream",
     "text": [
      "red\n",
      "sweet\n",
      "RED\n"
     ]
    }
   ],
   "source": [
    "class apple:\n",
    "    pass\n",
    "class apple:\n",
    "    color=\"\"\n",
    "    flavor=\"\"\n",
    "    jonagold=apple()\n",
    "    jonagold.color=\"red\"\n",
    "jonagold.flavor=\"sweet\"\n",
    "print(jonagold.color)\n",
    "print(jonagold.flavor)\n",
    "print(jonagold.color.upper())"
   ]
  },
  {
   "cell_type": "code",
   "execution_count": 7,
   "id": "0ad36f60",
   "metadata": {},
   "outputs": [
    {
     "name": "stdout",
     "output_type": "stream",
     "text": [
      "red\n",
      "sweet\n",
      "RED\n"
     ]
    }
   ],
   "source": [
    "class apple:\n",
    "    pass\n",
    "class apple:\n",
    "    color=\"\"\n",
    "    flavor=\"\"\n",
    "    jonagold=apple()\n",
    "    jonagold.color=\"red\"\n",
    "jonagold.flavor=\"sweet\"\n",
    "print(jonagold.color)\n",
    "print(jonagold.flavor)\n",
    "print(jonagold.color.upper())"
   ]
  },
  {
   "cell_type": "code",
   "execution_count": 8,
   "id": "4133275f",
   "metadata": {},
   "outputs": [
    {
     "name": "stdout",
     "output_type": "stream",
     "text": [
      "meow meow meow............\n"
     ]
    }
   ],
   "source": [
    "class Cat:\n",
    "    def speak(self):\n",
    "        print(\"meow meow meow............\")\n",
    "myCat=Cat()\n",
    "myCat.speak()"
   ]
  },
  {
   "cell_type": "code",
   "execution_count": 9,
   "id": "c3b420f5",
   "metadata": {},
   "outputs": [
    {
     "name": "stdout",
     "output_type": "stream",
     "text": [
      "meow! I'm{}meow.format(self.name)\n"
     ]
    }
   ],
   "source": [
    "class cat:\n",
    "    name=\" \"\n",
    "    def speak(self):\n",
    "        print(\"meow! I'm{}meow.format(self.name)\")\n",
    "myluna=cat()\n",
    "myluna.name=\"luna\"\n",
    "myluna.speak()"
   ]
  },
  {
   "cell_type": "code",
   "execution_count": 10,
   "id": "49eb5761",
   "metadata": {},
   "outputs": [
    {
     "name": "stdout",
     "output_type": "stream",
     "text": [
      "meow! I'm{}meow.format(self.name)\n",
      "meow! I'm{}meow.format(self.name)\n"
     ]
    }
   ],
   "source": [
    "class cat:\n",
    "    name=\" \"\n",
    "    def speak(self):\n",
    "        print(\"meow! I'm{}meow.format(self.name)\")\n",
    "myluna=cat()\n",
    "myluna.name=\"luna\"\n",
    "myluna.speak()\n",
    "mybella= cat()\n",
    "mybella.name=\"bella\"\n",
    "mybella.speak()"
   ]
  },
  {
   "cell_type": "code",
   "execution_count": 11,
   "id": "54d324ca",
   "metadata": {},
   "outputs": [
    {
     "data": {
      "text/plain": [
       "0"
      ]
     },
     "execution_count": 11,
     "metadata": {},
     "output_type": "execute_result"
    }
   ],
   "source": [
    "class cat:\n",
    "    years=0\n",
    "    def age(self):\n",
    "        return self.years*12\n",
    "myluna=cat()\n",
    "myluna.age()"
   ]
  },
  {
   "cell_type": "code",
   "execution_count": 12,
   "id": "520c4364",
   "metadata": {},
   "outputs": [
    {
     "data": {
      "text/plain": [
       "24"
      ]
     },
     "execution_count": 12,
     "metadata": {},
     "output_type": "execute_result"
    }
   ],
   "source": [
    "class cat:\n",
    "    years=0\n",
    "    def age(self):\n",
    "        return self.years*12\n",
    "\n",
    "    \n",
    "myluna=cat()\n",
    "myluna.years=2\n",
    "myluna.age()\n"
   ]
  },
  {
   "cell_type": "code",
   "execution_count": 13,
   "id": "ba59b193",
   "metadata": {},
   "outputs": [
    {
     "ename": "TypeError",
     "evalue": "Apple() takes no arguments",
     "output_type": "error",
     "traceback": [
      "\u001b[1;31m---------------------------------------------------------------------------\u001b[0m",
      "\u001b[1;31mTypeError\u001b[0m                                 Traceback (most recent call last)",
      "Cell \u001b[1;32mIn[13], line 5\u001b[0m\n\u001b[0;32m      3\u001b[0m         \u001b[38;5;28mself\u001b[39m\u001b[38;5;241m.\u001b[39mcolor\u001b[38;5;241m=\u001b[39mcolor\n\u001b[0;32m      4\u001b[0m         \u001b[38;5;28mself\u001b[39m\u001b[38;5;241m.\u001b[39mflavor\u001b[38;5;241m=\u001b[39mflavor\n\u001b[1;32m----> 5\u001b[0m jonagold \u001b[38;5;241m=\u001b[39m Apple(\u001b[38;5;124m\"\u001b[39m\u001b[38;5;124mred\u001b[39m\u001b[38;5;124m\"\u001b[39m,\u001b[38;5;124m\"\u001b[39m\u001b[38;5;124msweet\u001b[39m\u001b[38;5;124m\"\u001b[39m)\n\u001b[0;32m      6\u001b[0m \u001b[38;5;28mprint\u001b[39m(jonagold\u001b[38;5;241m.\u001b[39mcolor)\n",
      "\u001b[1;31mTypeError\u001b[0m: Apple() takes no arguments"
     ]
    }
   ],
   "source": [
    "class Apple:\n",
    "    def _init_(self,color,flavor):\n",
    "        self.color=color\n",
    "        self.flavor=flavor\n",
    "jonagold = Apple(\"red\",\"sweet\")\n",
    "print(jonagold.color)"
   ]
  },
  {
   "cell_type": "code",
   "execution_count": null,
   "id": "55e7dbdc",
   "metadata": {},
   "outputs": [],
   "source": [
    "class animal:\n",
    "    sound = \"\"\n",
    "    def _init_(self,name):\n",
    "        self.name= name\n",
    "    def speak(self):\n",
    "        print(\"{sound} I'm {name}! {sound}\".format(name=self.name, sound=self.sound))\n",
    "        \n",
    "class cat(animal):\n",
    "    sound=\"meow!\"\n",
    "    \n",
    "myluna=cat(\"luna\")\n",
    "myluna.speak()\n",
    "\n",
    "class cow(animal):\n",
    "    sound=\"mooo\"\n",
    "mycow=cow(\"milky\")\n",
    "mycow.speak()"
   ]
  },
  {
   "cell_type": "code",
   "execution_count": null,
   "id": "1a3b42e9",
   "metadata": {},
   "outputs": [],
   "source": [
    "class clothing:\n",
    "    material=\"\"\n",
    "    def _init_(self,name):\n",
    "        self.name=name\n",
    "    def checkmaterial(self):\n",
    "        print(\"this {}is made of {}\".format (self.name,self.material))\n",
    "          \n",
    "class shirt(clothing):\n",
    "        material=\"cotton\"\n",
    "polo=shirt(\"polo\")\n",
    "polo.checkmaterial()"
   ]
  },
  {
   "cell_type": "code",
   "execution_count": null,
   "id": "c56f02d0",
   "metadata": {},
   "outputs": [],
   "source": [
    "class Cat:\n",
    "    name = \"\"\n",
    "    def speak(self):\n",
    "        print(\"Meow! I'm {}! Meow\".format(self.name))\n",
    "myLuna = Cat()\n",
    "myLuna.name = \"Luna\"\n",
    "myLuna.speak()"
   ]
  },
  {
   "cell_type": "code",
   "execution_count": null,
   "id": "d4a031f7",
   "metadata": {},
   "outputs": [],
   "source": [
    "class Cat:\n",
    "    years = 0\n",
    "    def age (self):\n",
    "        return self.years * 12\n",
    "myLuna = Cat()\n",
    "myLuna.years = 2\n",
    "myLuna.age()"
   ]
  },
  {
   "cell_type": "code",
   "execution_count": null,
   "id": "f14ed386",
   "metadata": {},
   "outputs": [],
   "source": [
    "class Apple:\n",
    "    def __init__(self, color, flavor):\n",
    "        self.color = color\n",
    "        self.flavor = flavor\n",
    "\n",
    "jonagold = Apple(\"red\", \"sweet\")\n",
    "print(jonagold)"
   ]
  },
  {
   "cell_type": "code",
   "execution_count": null,
   "id": "15b8b042",
   "metadata": {},
   "outputs": [],
   "source": [
    "help(Apple)"
   ]
  },
  {
   "cell_type": "code",
   "execution_count": null,
   "id": "522620a8",
   "metadata": {},
   "outputs": [],
   "source": [
    "class Person:\n",
    "    def __init__(self, name):\n",
    "        self.name = name\n",
    "    def greeting(self):\n",
    "        # Should return \"hi, my name is \" followed by the name of the Person.\n",
    "        return print(\"hi, my name is {}\".format(self.name))\n",
    "\n",
    "# Create a new instance with a name of your choice\n",
    "some_person = Person(\"Ali\") \n",
    "# Call the greeting method\n",
    "print(some_person.greeting())"
   ]
  },
  {
   "cell_type": "code",
   "execution_count": null,
   "id": "fccb16e5",
   "metadata": {},
   "outputs": [],
   "source": [
    "class Animal:\n",
    "    sound = \"\"\n",
    "    def __init__(self, name):\n",
    "        self.name = name\n",
    "    def speak(self):\n",
    "        print(\"{sound} I'm {name}! {sound}\".format(name=self.name, sound=self.sound))\n",
    "\n",
    "class Cat(Animal):\n",
    "    sound = \"Meow!\"\n",
    "    \n",
    "myLuna = Cat(\"Luna\")\n",
    "myLuna.speak()\n"
   ]
  },
  {
   "cell_type": "code",
   "execution_count": null,
   "id": "59083d45",
   "metadata": {},
   "outputs": [],
   "source": [
    "class Animal:\n",
    "    sound = \"\"\n",
    "    def __init__(self, name):\n",
    "        self.name = name\n",
    "    def speak(self):\n",
    "        print(\"{sound} I'm {name}! {sound}\".format(name=self.name, sound=self.sound))\n",
    "\n",
    "class Cat(Animal):\n",
    "    sound = \"Meow!\"\n",
    "    \n",
    "myLuna = Cat(\"Luna\")\n",
    "myLuna.speak()\n",
    "\n",
    "class Cow(Animal):\n",
    "    sound = \"Moooo\"\n",
    "    \n",
    "myCow = Cow(\"Milky\")\n",
    "myCow.speak()"
   ]
  },
  {
   "cell_type": "code",
   "execution_count": null,
   "id": "11f94c3d",
   "metadata": {},
   "outputs": [],
   "source": [
    "class Repository:\n",
    "    def __init__(self):\n",
    "        self.packages = {}\n",
    "    def add_package(self, package):\n",
    "        self.packages[package.name] = package\n",
    "    def total_size(self):\n",
    "        result = 0\n",
    "        for package in self.packages.values():\n",
    "            result += package.size\n",
    "        return result"
   ]
  },
  {
   "cell_type": "code",
   "execution_count": null,
   "id": "ec4629f1",
   "metadata": {},
   "outputs": [],
   "source": [
    "a = []\n",
    "type(a)"
   ]
  },
  {
   "cell_type": "code",
   "execution_count": null,
   "id": "74561fd8",
   "metadata": {},
   "outputs": [],
   "source": [
    "help(a)"
   ]
  },
  {
   "cell_type": "code",
   "execution_count": null,
   "id": "d571b888",
   "metadata": {},
   "outputs": [],
   "source": []
  }
 ],
 "metadata": {
  "kernelspec": {
   "display_name": "Python 3 (ipykernel)",
   "language": "python",
   "name": "python3"
  },
  "language_info": {
   "codemirror_mode": {
    "name": "ipython",
    "version": 3
   },
   "file_extension": ".py",
   "mimetype": "text/x-python",
   "name": "python",
   "nbconvert_exporter": "python",
   "pygments_lexer": "ipython3",
   "version": "3.11.4"
  }
 },
 "nbformat": 4,
 "nbformat_minor": 5
}
